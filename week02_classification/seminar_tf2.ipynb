{
 "cells": [
  {
   "cell_type": "markdown",
   "metadata": {},
   "source": [
    "# Large scale text analysis with deep learning (3 points)\n",
    "\n",
    "Today we're gonna apply the newly learned tools for the task of predicting job salary.\n",
    "\n",
    "<img src=\"https://storage.googleapis.com/kaggle-competitions/kaggle/3342/media/salary%20prediction%20engine%20v2.png\" width=400px>\n",
    "\n",
    "_Special thanks to [Oleg Vasilev](https://github.com/Omrigan/) for the core assignment idea._"
   ]
  },
  {
   "cell_type": "code",
   "execution_count": 1,
   "metadata": {},
   "outputs": [],
   "source": [
    "import numpy as np\n",
    "import pandas as pd\n",
    "import matplotlib.pyplot as plt\n",
    "%matplotlib inline"
   ]
  },
  {
   "cell_type": "markdown",
   "metadata": {},
   "source": [
    "### About the challenge\n",
    "For starters, let's download and unpack the data from [here](https://www.dropbox.com/s/5msc5ix7ndyba10/Train_rev1.csv.tar.gz?dl=0). \n",
    "\n",
    "You can also get it from [yadisk url](https://yadi.sk/d/vVEOWPFY3NruT7) the competition [page](https://www.kaggle.com/c/job-salary-prediction/data) (pick `Train_rev1.*`)."
   ]
  },
  {
   "cell_type": "code",
   "execution_count": 5,
   "metadata": {},
   "outputs": [
    {
     "data": {
      "text/plain": [
       "(244768, 12)"
      ]
     },
     "execution_count": 5,
     "metadata": {},
     "output_type": "execute_result"
    }
   ],
   "source": [
    "# !curl -L https://www.dropbox.com/s/5msc5ix7ndyba10/Train_rev1.csv.tar.gz?dl=1 -o Train_rev1.csv.tar.gz\n",
    "# !tar -xvzf ./Train_rev1.csv.tar.gz\n",
    "\n",
    "data = pd.read_csv(\"./Train_rev1.csv\", index_col=None)\n",
    "data.shape"
   ]
  },
  {
   "cell_type": "markdown",
   "metadata": {},
   "source": [
    "One problem with salary prediction is that it's oddly distributed: there are many people who are paid standard salaries and a few that get tons o money. The distribution is fat-tailed on the right side, which is inconvenient for MSE minimization.\n",
    "\n",
    "There are several techniques to combat this: using a different loss function, predicting log-target instead of raw target or even replacing targets with their percentiles among all salaries in the training set. We gonna use logarithm for now.\n",
    "\n",
    "_You can read more [in the official description](https://www.kaggle.com/c/job-salary-prediction#description)._"
   ]
  },
  {
   "cell_type": "code",
   "execution_count": 6,
   "metadata": {},
   "outputs": [
    {
     "data": {
      "image/png": "[encoded data removed]",
      "text/plain": [
       "<Figure size 576x288 with 2 Axes>"
      ]
     },
     "metadata": {
      "needs_background": "light"
     },
     "output_type": "display_data"
    }
   ],
   "source": [
    "data['Log1pSalary'] = np.log1p(data['SalaryNormalized']).astype('float32')\n",
    "\n",
    "plt.figure(figsize=[8, 4])\n",
    "plt.subplot(1, 2, 1)\n",
    "plt.hist(data[\"SalaryNormalized\"], bins=20);\n",
    "\n",
    "plt.subplot(1, 2, 2)\n",
    "plt.hist(data['Log1pSalary'], bins=20);"
   ]
  },
  {
   "cell_type": "markdown",
   "metadata": {},
   "source": [
    "Our task is to predict one number, __Log1pSalary__.\n",
    "\n",
    "To do so, our model can access a number of features:\n",
    "* Free text: __`Title`__ and  __`FullDescription`__\n",
    "* Categorical: __`Category`__, __`Company`__, __`LocationNormalized`__, __`ContractType`__, and __`ContractTime`__."
   ]
  },
  {
   "cell_type": "code",
   "execution_count": 11,
   "metadata": {},
   "outputs": [
    {
     "data": {
      "text/html": [
       "<div>\n",
       "<style scoped>\n",
       "    .dataframe tbody tr th:only-of-type {\n",
       "        vertical-align: middle;\n",
       "    }\n",
       "\n",
       "    .dataframe tbody tr th {\n",
       "        vertical-align: top;\n",
       "    }\n",
       "\n",
       "    .dataframe thead th {\n",
       "        text-align: right;\n",
       "    }\n",
       "</style>\n",
       "<table border=\"1\" class=\"dataframe\">\n",
       "  <thead>\n",
       "    <tr style=\"text-align: right;\">\n",
       "      <th></th>\n",
       "      <th>Id</th>\n",
       "      <th>Title</th>\n",
       "      <th>FullDescription</th>\n",
       "      <th>LocationRaw</th>\n",
       "      <th>LocationNormalized</th>\n",
       "      <th>ContractType</th>\n",
       "      <th>ContractTime</th>\n",
       "      <th>Company</th>\n",
       "      <th>Category</th>\n",
       "      <th>SalaryRaw</th>\n",
       "      <th>SalaryNormalized</th>\n",
       "      <th>SourceName</th>\n",
       "      <th>Log1pSalary</th>\n",
       "    </tr>\n",
       "  </thead>\n",
       "  <tbody>\n",
       "    <tr>\n",
       "      <th>139759</th>\n",
       "      <td>70533796</td>\n",
       "      <td>Moodle Developer</td>\n",
       "      <td>Job Title: Moodle Developer / PHP Developer Co...</td>\n",
       "      <td>City of London London England</td>\n",
       "      <td>The City</td>\n",
       "      <td>NaN</td>\n",
       "      <td>NaN</td>\n",
       "      <td>Real Staffing</td>\n",
       "      <td>Logistics &amp; Warehouse Jobs</td>\n",
       "      <td>250 -350 per day</td>\n",
       "      <td>72000</td>\n",
       "      <td>gojobsearch.co.uk</td>\n",
       "      <td>11.184435</td>\n",
       "    </tr>\n",
       "    <tr>\n",
       "      <th>28869</th>\n",
       "      <td>67996736</td>\n",
       "      <td>Recruitment Resourcer  Crawley  ********K Basic</td>\n",
       "      <td>Zest **** is a fast growing company that speci...</td>\n",
       "      <td>UK</td>\n",
       "      <td>UK</td>\n",
       "      <td>NaN</td>\n",
       "      <td>NaN</td>\n",
       "      <td>Zest 2 Recruitment</td>\n",
       "      <td>Accounting &amp; Finance Jobs</td>\n",
       "      <td>15-18K plus commission</td>\n",
       "      <td>16500</td>\n",
       "      <td>juniorbroker.com</td>\n",
       "      <td>9.711176</td>\n",
       "    </tr>\n",
       "    <tr>\n",
       "      <th>53269</th>\n",
       "      <td>68673070</td>\n",
       "      <td>Retail Research Consultant _ Surrey ****  bene...</td>\n",
       "      <td>Retail Research Consultant _ Surrey ****  bene...</td>\n",
       "      <td>Surrey South East</td>\n",
       "      <td>Surrey</td>\n",
       "      <td>NaN</td>\n",
       "      <td>permanent</td>\n",
       "      <td>Boyce Recruitment</td>\n",
       "      <td>PR, Advertising &amp; Marketing Jobs</td>\n",
       "      <td>33000 per annum + benefits</td>\n",
       "      <td>33000</td>\n",
       "      <td>totaljobs.com</td>\n",
       "      <td>10.404293</td>\n",
       "    </tr>\n",
       "  </tbody>\n",
       "</table>\n",
       "</div>"
      ],
      "text/plain": [
       "              Id                                              Title  \\\n",
       "139759  70533796                                   Moodle Developer   \n",
       "28869   67996736    Recruitment Resourcer  Crawley  ********K Basic   \n",
       "53269   68673070  Retail Research Consultant _ Surrey ****  bene...   \n",
       "\n",
       "                                          FullDescription  \\\n",
       "139759  Job Title: Moodle Developer / PHP Developer Co...   \n",
       "28869   Zest **** is a fast growing company that speci...   \n",
       "53269   Retail Research Consultant _ Surrey ****  bene...   \n",
       "\n",
       "                          LocationRaw LocationNormalized ContractType  \\\n",
       "139759  City of London London England           The City          NaN   \n",
       "28869                              UK                 UK          NaN   \n",
       "53269               Surrey South East             Surrey          NaN   \n",
       "\n",
       "       ContractTime             Company                          Category  \\\n",
       "139759          NaN       Real Staffing        Logistics & Warehouse Jobs   \n",
       "28869           NaN  Zest 2 Recruitment         Accounting & Finance Jobs   \n",
       "53269     permanent   Boyce Recruitment  PR, Advertising & Marketing Jobs   \n",
       "\n",
       "                         SalaryRaw  SalaryNormalized         SourceName  \\\n",
       "139759            250 -350 per day             72000  gojobsearch.co.uk   \n",
       "28869       15-18K plus commission             16500   juniorbroker.com   \n",
       "53269   33000 per annum + benefits             33000      totaljobs.com   \n",
       "\n",
       "        Log1pSalary  \n",
       "139759    11.184435  \n",
       "28869      9.711176  \n",
       "53269     10.404293  "
      ]
     },
     "execution_count": 11,
     "metadata": {},
     "output_type": "execute_result"
    }
   ],
   "source": [
    "text_columns = [\"Title\", \"FullDescription\"]\n",
    "categorical_columns = [\"Category\", \"Company\", \"LocationNormalized\", \"ContractType\", \"ContractTime\"]\n",
    "target_column = \"Log1pSalary\"\n",
    "\n",
    "data[categorical_columns] = data[categorical_columns].fillna('NaN') # cast missing values to string \"NaN\"\n",
    "\n",
    "data.sample(3)"
   ]
  },
  {
   "cell_type": "markdown",
   "metadata": {},
   "source": [
    "### Preprocessing text data\n",
    "\n",
    "Just like last week, applying NLP to a problem begins from tokenization: splitting raw text into sequences of tokens (words, punctuation, etc).\n",
    "\n",
    "__Your task__ is to lowercase and tokenize all texts under `Title` and `FullDescription` columns. Store the tokenized data as a __space-separated__ string of tokens for performance reasons.\n",
    "\n",
    "It's okay to use nltk tokenizers. Assertions were designed for WordPunctTokenizer, slight deviations are okay."
   ]
  },
  {
   "cell_type": "code",
   "execution_count": 8,
   "metadata": {},
   "outputs": [
    {
     "name": "stdout",
     "output_type": "stream",
     "text": [
      "Raw text:\n",
      "2         Mathematical Modeller / Simulation Analyst / O...\n",
      "100002    A successful and high achieving specialist sch...\n",
      "200002    Web Designer  HTML, CSS, JavaScript, Photoshop...\n",
      "Name: FullDescription, dtype: object\n"
     ]
    }
   ],
   "source": [
    "print(\"Raw text:\")\n",
    "print(data[\"FullDescription\"][2::100000])"
   ]
  },
  {
   "cell_type": "code",
   "execution_count": 25,
   "metadata": {},
   "outputs": [],
   "source": [
    "import nltk\n",
    "tokenizer = nltk.tokenize.WordPunctTokenizer()\n",
    "\n",
    "# see task above\n",
    "for col in text_columns:\n",
    "    data[col] = data[col].astype(np.str).apply(lambda sent : ' '.join(tokenizer.tokenize(sent.lower())))"
   ]
  },
  {
   "cell_type": "markdown",
   "metadata": {},
   "source": [
    "Now we can assume that our text is a space-separated list of tokens:"
   ]
  },
  {
   "cell_type": "code",
   "execution_count": 26,
   "metadata": {},
   "outputs": [
    {
     "name": "stdout",
     "output_type": "stream",
     "text": [
      "Tokenized:\n",
      "2         mathematical modeller / simulation analyst / o...\n",
      "100002    a successful and high achieving specialist sch...\n",
      "200002    web designer html , css , javascript , photosh...\n",
      "Name: FullDescription, dtype: object\n"
     ]
    }
   ],
   "source": [
    "print(\"Tokenized:\")\n",
    "print(data[\"FullDescription\"][2::100000])\n",
    "assert data[\"FullDescription\"][2][:50] == 'mathematical modeller / simulation analyst / opera'\n",
    "assert data[\"Title\"][54321] == 'international digital account manager ( german )'"
   ]
  },
  {
   "cell_type": "markdown",
   "metadata": {},
   "source": [
    "Not all words are equally useful. Some of them are typos or rare words that are only present a few times. \n",
    "\n",
    "Let's count how many times is each word present in the data so that we can build a \"white list\" of known words."
   ]
  },
  {
   "cell_type": "code",
   "execution_count": 30,
   "metadata": {},
   "outputs": [],
   "source": [
    "# Count how many times does each token occur in both \"Title\" and \"FullDescription\" in total\n",
    "# build a dictionary { token -> it's count }\n",
    "from collections import Counter\n",
    "token_counts = Counter()\n",
    "for col in text_columns:\n",
    "    for string in data[col]:\n",
    "        token_counts.update(string.split())\n",
    "# hint: you may or may not want to use collections.Counter"
   ]
  },
  {
   "cell_type": "code",
   "execution_count": 31,
   "metadata": {},
   "outputs": [
    {
     "name": "stdout",
     "output_type": "stream",
     "text": [
      "Total unique tokens : 202704\n",
      "('and', 2657388)\n",
      "('.', 2523216)\n",
      "(',', 2318606)\n",
      "('the', 2080994)\n",
      "('to', 2019884)\n",
      "...\n",
      "('stephanietraveltraderecruitmnt', 1)\n",
      "('ruabon', 1)\n",
      "('lowehays', 1)\n",
      "Correct!\n"
     ]
    }
   ],
   "source": [
    "print(\"Total unique tokens :\", len(token_counts))\n",
    "print('\\n'.join(map(str, token_counts.most_common(n=5))))\n",
    "print('...')\n",
    "print('\\n'.join(map(str, token_counts.most_common()[-3:])))\n",
    "\n",
    "assert token_counts.most_common(1)[0][1] in  range(2600000, 2700000)\n",
    "assert len(token_counts) in range(200000, 210000)\n",
    "print('Correct!')"
   ]
  },
  {
   "cell_type": "code",
   "execution_count": 32,
   "metadata": {},
   "outputs": [
    {
     "data": {
      "image/png": "[encoded data removed]",
      "text/plain": [
       "<Figure size 432x288 with 1 Axes>"
      ]
     },
     "metadata": {
      "needs_background": "light"
     },
     "output_type": "display_data"
    }
   ],
   "source": [
    "# Let's see how many words are there for each count\n",
    "plt.hist(list(token_counts.values()), range=[0, 10**4], bins=50, log=True)\n",
    "plt.xlabel(\"Word counts\");"
   ]
  },
  {
   "cell_type": "markdown",
   "metadata": {},
   "source": [
    "Now filter tokens a list of all tokens that occur at least 10 times."
   ]
  },
  {
   "cell_type": "code",
   "execution_count": 33,
   "metadata": {},
   "outputs": [],
   "source": [
    "min_count = 10\n",
    "\n",
    "# tokens from token_counts keys that had at least min_count occurrences throughout the dataset\n",
    "tokens = [token for token, count in token_counts.items() if count >= min_count]"
   ]
  },
  {
   "cell_type": "code",
   "execution_count": 34,
   "metadata": {},
   "outputs": [
    {
     "name": "stdout",
     "output_type": "stream",
     "text": [
      "Vocabulary size: 34158\n",
      "Correct!\n"
     ]
    }
   ],
   "source": [
    "# Add a special tokens for unknown and empty words\n",
    "UNK, PAD = \"UNK\", \"PAD\"\n",
    "tokens = [UNK, PAD] + sorted(tokens)\n",
    "print(\"Vocabulary size:\", len(tokens))\n",
    "\n",
    "assert type(tokens) == list\n",
    "assert len(tokens) in range(30000, 40000)\n",
    "assert 'me' in tokens\n",
    "assert UNK in tokens\n",
    "print(\"Correct!\")"
   ]
  },
  {
   "cell_type": "markdown",
   "metadata": {},
   "source": [
    "Build an inverse token index: a dictionary from token(string) to it's index in `tokens` (int)"
   ]
  },
  {
   "cell_type": "code",
   "execution_count": null,
   "metadata": {},
   "outputs": [],
   "source": [
    "token_to_id = <your code here>"
   ]
  },
  {
   "cell_type": "code",
   "execution_count": 36,
   "metadata": {},
   "outputs": [
    {
     "name": "stdout",
     "output_type": "stream",
     "text": [
      "Correct!\n"
     ]
    }
   ],
   "source": [
    "token_to_id = dict(zip(tokens, np.arange(len(tokens))))\n",
    "assert isinstance(token_to_id, dict)\n",
    "assert len(token_to_id) == len(tokens)\n",
    "for tok in tokens:\n",
    "    assert tokens[token_to_id[tok]] == tok\n",
    "\n",
    "print(\"Correct!\")"
   ]
  },
  {
   "cell_type": "markdown",
   "metadata": {},
   "source": [
    "And finally, let's use the vocabulary you've built to map text lines into neural network-digestible matrices."
   ]
  },
  {
   "cell_type": "code",
   "execution_count": null,
   "metadata": {},
   "outputs": [],
   "source": [
    "UNK_IX, PAD_IX = map(token_to_id.get, [UNK, PAD])\n",
    "\n",
    "def as_matrix(sequences, max_len=None):\n",
    "    \"\"\" Convert a list of tokens into a matrix with padding \"\"\"\n",
    "    if isinstance(sequences[0], str):\n",
    "        sequences = list(map(str.split, sequences))\n",
    "        \n",
    "    max_len = min(max(map(len, sequences)), max_len or float('inf'))\n",
    "    \n",
    "    matrix = np.full((len(sequences), max_len), np.int32(PAD_IX))\n",
    "    for i,seq in enumerate(sequences):\n",
    "        row_ix = [token_to_id.get(word, UNK_IX) for word in seq[:max_len]]\n",
    "        matrix[i, :len(row_ix)] = row_ix\n",
    "    \n",
    "    return matrix"
   ]
  },
  {
   "cell_type": "code",
   "execution_count": 39,
   "metadata": {},
   "outputs": [
    {
     "name": "stdout",
     "output_type": "stream",
     "text": [
      "Lines:\n",
      "engineering systems analyst\n",
      "hr assistant\n",
      "senior ec & i engineer\n",
      "\n",
      "Matrix:\n",
      "[[10807 30161  2166     1     1]\n",
      " [15020  2844     1     1     1]\n",
      " [27645 10201    16 15215 10804]]\n"
     ]
    }
   ],
   "source": [
    "print(\"Lines:\")\n",
    "print('\\n'.join(data[\"Title\"][::100000].values), end='\\n\\n')\n",
    "print(\"Matrix:\")\n",
    "print(as_matrix(data[\"Title\"][::100000]))"
   ]
  },
  {
   "cell_type": "markdown",
   "metadata": {},
   "source": [
    "Now let's  encode the categirical data we have.\n",
    "\n",
    "As usual, we shall use one-hot encoding for simplicity. Kudos if you implement more advanced encodings: tf-idf, pseudo-time-series, etc."
   ]
  },
  {
   "cell_type": "code",
   "execution_count": 38,
   "metadata": {},
   "outputs": [],
   "source": [
    "UNK_IX, PAD_IX = map(token_to_id.get, [UNK, PAD])\n",
    "\n",
    "def as_matrix(sequences, max_len=None):\n",
    "    \"\"\" Convert a list of tokens into a matrix with padding \"\"\"\n",
    "    if isinstance(sequences[0], str):\n",
    "        sequences = list(map(str.split, sequences))\n",
    "    max_len = min(max(map(len, sequences)), max_len or float('inf'))\n",
    "    matrix = np.full((len(sequences), max_len), np.int32(PAD_IX))\n",
    "    for i,seq in enumerate(sequences):\n",
    "        row_ix = [token_to_id.get(word, UNK_IX) for word in seq[:max_len]]\n",
    "        matrix[i, :len(row_ix)] = row_ix\n",
    "    \n",
    "    return matrix"
   ]
  },
  {
   "cell_type": "code",
   "execution_count": null,
   "metadata": {},
   "outputs": [],
   "source": [
    "from sklearn.feature_extraction import DictVectorizer\n",
    "\n",
    "# we only consider top-1k most frequent companies to minimize memory usage\n",
    "top_companies, top_counts = zip(*Counter(data['Company']).most_common(1000))\n",
    "recognized_companies = set(top_companies)\n",
    "data[\"Company\"] = data[\"Company\"].apply(lambda comp: comp if comp in recognized_companies else \"Other\")\n",
    "\n",
    "categorical_vectorizer = DictVectorizer(dtype=np.float32, sparse=False)\n",
    "categorical_vectorizer.fit(data[categorical_columns].apply(dict, axis=1))"
   ]
  },
  {
   "cell_type": "markdown",
   "metadata": {},
   "source": [
    "### The deep learning part\n",
    "\n",
    "Once we've learned to tokenize the data, let's design a machine learning experiment.\n",
    "\n",
    "As before, we won't focus too much on validation, opting for a simple train-test split.\n",
    "\n",
    "__To be completely rigorous,__ we've comitted a small crime here: we used the whole data for tokenization and vocabulary building. A more strict way would be to do that part on training set only. You may want to do that and measure the magnitude of changes."
   ]
  },
  {
   "cell_type": "code",
   "execution_count": 40,
   "metadata": {},
   "outputs": [
    {
     "name": "stdout",
     "output_type": "stream",
     "text": [
      "Train size =  195814\n",
      "Validation size =  48954\n"
     ]
    }
   ],
   "source": [
    "from sklearn.model_selection import train_test_split\n",
    "\n",
    "data_train, data_val = train_test_split(data, test_size=0.2, random_state=42)\n",
    "data_train.index = range(len(data_train))\n",
    "data_val.index = range(len(data_val))\n",
    "\n",
    "print(\"Train size = \", len(data_train))\n",
    "print(\"Validation size = \", len(data_val))"
   ]
  },
  {
   "cell_type": "code",
   "execution_count": 43,
   "metadata": {},
   "outputs": [
    {
     "data": {
      "text/plain": [
       "3768"
      ]
     },
     "execution_count": 43,
     "metadata": {},
     "output_type": "execute_result"
    }
   ],
   "source": [
    "from sklearn.feature_extraction import DictVectorizer\n",
    "\n",
    "# we only consider top-1k most frequent companies to minimize memory usage\n",
    "top_companies, top_counts = zip(*Counter(data['Company']).most_common(1000))\n",
    "recognized_companies = set(top_companies)\n",
    "data[\"Company\"] = data[\"Company\"].apply(lambda comp: comp if comp in recognized_companies else \"Other\")\n",
    "\n",
    "categorical_vectorizer = DictVectorizer(dtype=np.float32, sparse=False)\n",
    "categorical_vectorizer.fit(data[categorical_columns].apply(dict, axis=1))\n",
    "\n",
    "len(categorical_vectorizer.vocabulary_)"
   ]
  },
  {
   "cell_type": "code",
   "execution_count": 44,
   "metadata": {},
   "outputs": [],
   "source": [
    "def make_batch(data, max_len=None, word_dropout=0):\n",
    "    \"\"\"\n",
    "    Creates a keras-friendly dict from the batch data.\n",
    "    :param word_dropout: replaces token index with UNK_IX with this probability\n",
    "    :returns: a dict with {'title' : int64[batch, title_max_len]\n",
    "    \"\"\"\n",
    "    batch = {}\n",
    "    batch[\"Title\"] = as_matrix(data[\"Title\"].values, max_len)\n",
    "    batch[\"FullDescription\"] = as_matrix(data[\"FullDescription\"].values, max_len)\n",
    "    batch['Categorical'] = categorical_vectorizer.transform(data[categorical_columns].apply(dict, axis=1))\n",
    "    \n",
    "    if word_dropout != 0:\n",
    "        batch[\"FullDescription\"] = apply_word_dropout(batch[\"FullDescription\"], 1. - word_dropout)\n",
    "    \n",
    "    if target_column in data.columns:\n",
    "        batch[target_column] = data[target_column].values\n",
    "    \n",
    "    return batch\n",
    "\n",
    "def apply_word_dropout(matrix, keep_prop, replace_with=UNK_IX, pad_ix=PAD_IX,):\n",
    "    dropout_mask = np.random.choice(2, np.shape(matrix), p=[keep_prop, 1 - keep_prop])\n",
    "    dropout_mask &= matrix != pad_ix\n",
    "    return np.choose(dropout_mask, [matrix, np.full_like(matrix, replace_with)])"
   ]
  },
  {
   "cell_type": "code",
   "execution_count": 45,
   "metadata": {},
   "outputs": [
    {
     "data": {
      "text/plain": [
       "{'Title': array([[27645, 29893, 33674,     1,     1,     1,     1],\n",
       "        [29239,   197, 19175, 20042, 15554, 23162,  4051],\n",
       "        [10609, 30412, 17746,    33,  8705, 29157,    65]], dtype=int32),\n",
       " 'FullDescription': array([[27645, 29893, 33674, 32939,   982, 27645, 29893, 33674, 16451,\n",
       "         32939],\n",
       "        [29239,   197, 19175, 20042, 15554, 23162,  4051, 25511,   907,\n",
       "            82],\n",
       "        [30746, 21956, 20601,  6409, 16451,  8165, 27493,   982, 30412,\n",
       "         17746]], dtype=int32),\n",
       " 'Categorical': array([[0., 0., 0., ..., 0., 0., 0.],\n",
       "        [0., 0., 0., ..., 0., 0., 0.],\n",
       "        [0., 0., 0., ..., 0., 0., 0.]], dtype=float32),\n",
       " 'Log1pSalary': array([ 9.71154 , 10.463132, 10.71444 ], dtype=float32)}"
      ]
     },
     "execution_count": 45,
     "metadata": {},
     "output_type": "execute_result"
    }
   ],
   "source": [
    "make_batch(data_train[:3], max_len=10)"
   ]
  },
  {
   "cell_type": "markdown",
   "metadata": {},
   "source": [
    "#### Architecture\n",
    "\n",
    "Our basic model consists of three branches:\n",
    "* Title encoder\n",
    "* Description encoder\n",
    "* Categorical features encoder\n",
    "\n",
    "We will then feed all 3 branches into one common network that predicts salary.\n",
    "\n",
    "<img src=\"https://github.com/yandexdataschool/nlp_course/raw/master/resources/w2_conv_arch.png\" width=600px>"
   ]
  },
  {
   "cell_type": "markdown",
   "metadata": {},
   "source": [
    "This clearly doesn't fit into keras' __Sequential__ interface. To build such a network, one will have to use __[Keras Functional API](https://keras.io/models/model/)__."
   ]
  },
  {
   "cell_type": "code",
   "execution_count": 46,
   "metadata": {},
   "outputs": [
    {
     "name": "stderr",
     "output_type": "stream",
     "text": [
      "2021-08-18 15:02:11.789937: W tensorflow/stream_executor/platform/default/dso_loader.cc:64] Could not load dynamic library 'libcudart.so.11.0'; dlerror: libcudart.so.11.0: cannot open shared object file: No such file or directory\n",
      "2021-08-18 15:02:11.789985: I tensorflow/stream_executor/cuda/cudart_stub.cc:29] Ignore above cudart dlerror if you do not have a GPU set up on your machine.\n"
     ]
    }
   ],
   "source": [
    "import keras\n",
    "import keras.layers as L"
   ]
  },
  {
   "cell_type": "code",
   "execution_count": 49,
   "metadata": {},
   "outputs": [],
   "source": [
    "def build_model(n_tokens=len(tokens), n_cat_features=len(categorical_vectorizer.vocabulary_), hid_size=64):\n",
    "    \"\"\" Build a model that maps three data sources to a single linear output: predicted log1p(salary) \"\"\"\n",
    "    \n",
    "    l_title = L.Input(shape=[None], name=\"Title\")\n",
    "    l_descr = L.Input(shape=[None], name=\"FullDescription\")\n",
    "    l_categ = L.Input(shape=[n_cat_features], name=\"Categorical\")\n",
    "    \n",
    "    # Build your monster!\n",
    "    \n",
    "    emb = L.Embedding(n_tokens, hid_size)\n",
    "    \n",
    "    l_title_emb = emb(l_title)\n",
    "    l_title_conv =  L.Conv1D(filters=hid_size, kernel_size=2, activation='relu')(l_title_emb)\n",
    "    l_title_out = L.GlobalMaxPool1D()(l_title_conv)\n",
    "    \n",
    "    l_descr_emb = emb(l_descr)\n",
    "    l_descr_conv =  L.Conv1D(filters=hid_size, kernel_size=2, activation='relu')(l_descr_emb)\n",
    "    l_descr_out = L.GlobalMaxPool1D()(l_descr_conv)\n",
    "    \n",
    "    l_categ_dense = L.Dense(2 * hid_size, activation='relu')(l_categ)\n",
    "    l_categ_drop = L.Dropout(0.25)(l_categ_dense)\n",
    "    l_categ_out = L.Dense(hid_size, activation='relu')(l_categ_drop)\n",
    "    \n",
    "    l_concatenated = L.Concatenate()([l_title_out, l_descr_out, l_categ_out]) \n",
    "    l_concateneted_dense = L.Dense(2 * hid_size, activation='relu')(l_concatenated)\n",
    "    output_layer = L.Dense(1)(l_concateneted_dense)\n",
    "    # end of your code\n",
    "    \n",
    "    model = keras.models.Model(inputs=[l_title, l_descr, l_categ], outputs=[output_layer])\n",
    "    model.compile('adam', 'mean_squared_error', metrics=['mean_absolute_error'])\n",
    "    return model\n",
    "    "
   ]
  },
  {
   "cell_type": "code",
   "execution_count": 50,
   "metadata": {},
   "outputs": [
    {
     "name": "stderr",
     "output_type": "stream",
     "text": [
      "2021-08-18 15:06:35.601409: W tensorflow/stream_executor/platform/default/dso_loader.cc:64] Could not load dynamic library 'libcuda.so.1'; dlerror: libcuda.so.1: cannot open shared object file: No such file or directory\n",
      "2021-08-18 15:06:35.601459: W tensorflow/stream_executor/cuda/cuda_driver.cc:269] failed call to cuInit: UNKNOWN ERROR (303)\n",
      "2021-08-18 15:06:35.601476: I tensorflow/stream_executor/cuda/cuda_diagnostics.cc:156] kernel driver does not appear to be running on this host (LAPTOP-FUALPJL8): /proc/driver/nvidia/version does not exist\n",
      "2021-08-18 15:06:35.601742: I tensorflow/core/platform/cpu_feature_guard.cc:142] This TensorFlow binary is optimized with oneAPI Deep Neural Network Library (oneDNN) to use the following CPU instructions in performance-critical operations:  AVX2 AVX512F FMA\n",
      "To enable them in other operations, rebuild TensorFlow with the appropriate compiler flags.\n",
      "2021-08-18 15:06:35.749584: I tensorflow/compiler/mlir/mlir_graph_optimization_pass.cc:185] None of the MLIR Optimization Passes are enabled (registered 2)\n",
      "/home/asdfghj/.local/lib/python3.8/site-packages/keras/engine/functional.py:582: UserWarning: Input dict contained keys ['Log1pSalary'] which did not match any model input. They will be ignored by the model.\n",
      "  warnings.warn(\n"
     ]
    },
    {
     "name": "stdout",
     "output_type": "stream",
     "text": [
      "Model: \"model\"\n",
      "__________________________________________________________________________________________________\n",
      "Layer (type)                    Output Shape         Param #     Connected to                     \n",
      "==================================================================================================\n",
      "Title (InputLayer)              [(None, None)]       0                                            \n",
      "__________________________________________________________________________________________________\n",
      "FullDescription (InputLayer)    [(None, None)]       0                                            \n",
      "__________________________________________________________________________________________________\n",
      "Categorical (InputLayer)        [(None, 3768)]       0                                            \n",
      "__________________________________________________________________________________________________\n",
      "embedding (Embedding)           (None, None, 64)     2186112     Title[0][0]                      \n",
      "                                                                 FullDescription[0][0]            \n",
      "__________________________________________________________________________________________________\n",
      "dense (Dense)                   (None, 128)          482432      Categorical[0][0]                \n",
      "__________________________________________________________________________________________________\n",
      "conv1d (Conv1D)                 (None, None, 64)     8256        embedding[0][0]                  \n",
      "__________________________________________________________________________________________________\n",
      "conv1d_1 (Conv1D)               (None, None, 64)     8256        embedding[1][0]                  \n",
      "__________________________________________________________________________________________________\n",
      "dropout (Dropout)               (None, 128)          0           dense[0][0]                      \n",
      "__________________________________________________________________________________________________\n",
      "global_max_pooling1d (GlobalMax (None, 64)           0           conv1d[0][0]                     \n",
      "__________________________________________________________________________________________________\n",
      "global_max_pooling1d_1 (GlobalM (None, 64)           0           conv1d_1[0][0]                   \n",
      "__________________________________________________________________________________________________\n",
      "dense_1 (Dense)                 (None, 64)           8256        dropout[0][0]                    \n",
      "__________________________________________________________________________________________________\n",
      "concatenate (Concatenate)       (None, 192)          0           global_max_pooling1d[0][0]       \n",
      "                                                                 global_max_pooling1d_1[0][0]     \n",
      "                                                                 dense_1[0][0]                    \n",
      "__________________________________________________________________________________________________\n",
      "dense_2 (Dense)                 (None, 128)          24704       concatenate[0][0]                \n",
      "__________________________________________________________________________________________________\n",
      "dense_3 (Dense)                 (None, 1)            129         dense_2[0][0]                    \n",
      "==================================================================================================\n",
      "Total params: 2,718,145\n",
      "Trainable params: 2,718,145\n",
      "Non-trainable params: 0\n",
      "__________________________________________________________________________________________________\n"
     ]
    }
   ],
   "source": [
    "model = build_model()\n",
    "model.summary()\n",
    "\n",
    "dummy_pred = model.predict(make_batch(data_train[:100]))\n",
    "dummy_loss = model.train_on_batch(make_batch(data_train[:100]), data_train['Log1pSalary'][:100])[0]\n",
    "assert dummy_pred.shape == (100, 1)\n",
    "assert len(np.unique(dummy_pred)) > 20, \"model returns suspiciously few unique outputs. Check your initialization\"\n",
    "assert np.ndim(dummy_loss) == 0 and 0. <= dummy_loss <= 250., \"make sure you minimize MSE\""
   ]
  },
  {
   "cell_type": "markdown",
   "metadata": {},
   "source": [
    "#### Training and evaluation\n",
    "\n",
    "As usual, we gonna feed our monster with random minibatches of data. \n",
    "\n",
    "As we train, we want to monitor not only loss function, which is computed in log-space, but also the actual error measured in dollars."
   ]
  },
  {
   "cell_type": "code",
   "execution_count": 51,
   "metadata": {},
   "outputs": [],
   "source": [
    "def iterate_minibatches(data, batch_size=256, shuffle=True, cycle=False, **kwargs):\n",
    "    \"\"\" iterates minibatches of data in random order \"\"\"\n",
    "    while True:\n",
    "        indices = np.arange(len(data))\n",
    "        if shuffle:\n",
    "            indices = np.random.permutation(indices)\n",
    "\n",
    "        for start in range(0, len(indices), batch_size):\n",
    "            batch = make_batch(data.iloc[indices[start : start + batch_size]], **kwargs)\n",
    "            target = batch.pop(target_column)\n",
    "            yield batch, target\n",
    "        \n",
    "        if not cycle: break"
   ]
  },
  {
   "cell_type": "markdown",
   "metadata": {},
   "source": [
    "### Model training\n",
    "\n",
    "We can now fit our model the usual minibatch way. The interesting part is that we train on an infinite stream of minibatches, produced by `iterate_minibatches` function."
   ]
  },
  {
   "cell_type": "code",
   "execution_count": 52,
   "metadata": {},
   "outputs": [
    {
     "name": "stderr",
     "output_type": "stream",
     "text": [
      "/home/asdfghj/.local/lib/python3.8/site-packages/keras/engine/training.py:1972: UserWarning: `Model.fit_generator` is deprecated and will be removed in a future version. Please use `Model.fit`, which supports generators.\n",
      "  warnings.warn('`Model.fit_generator` is deprecated and '\n"
     ]
    },
    {
     "name": "stdout",
     "output_type": "stream",
     "text": [
      "Epoch 1/10\n",
      "100/100 [==============================] - 21s 203ms/step - loss: 20.3700 - mean_absolute_error: 2.8770 - val_loss: 0.2667 - val_mean_absolute_error: 0.4065\n",
      "Epoch 2/10\n",
      "100/100 [==============================] - 25s 251ms/step - loss: 0.2888 - mean_absolute_error: 0.4185 - val_loss: 0.1792 - val_mean_absolute_error: 0.3254\n",
      "Epoch 3/10\n",
      "100/100 [==============================] - 23s 235ms/step - loss: 0.2279 - mean_absolute_error: 0.3711 - val_loss: 0.1479 - val_mean_absolute_error: 0.2926\n",
      "Epoch 4/10\n",
      "100/100 [==============================] - 24s 237ms/step - loss: 0.1905 - mean_absolute_error: 0.3387 - val_loss: 0.1325 - val_mean_absolute_error: 0.2743\n",
      "Epoch 5/10\n",
      "100/100 [==============================] - 23s 234ms/step - loss: 0.1687 - mean_absolute_error: 0.3158 - val_loss: 0.1202 - val_mean_absolute_error: 0.2597\n",
      "Epoch 6/10\n",
      "100/100 [==============================] - 24s 241ms/step - loss: 0.1488 - mean_absolute_error: 0.2951 - val_loss: 0.1138 - val_mean_absolute_error: 0.2526\n",
      "Epoch 7/10\n",
      "100/100 [==============================] - 24s 237ms/step - loss: 0.1325 - mean_absolute_error: 0.2788 - val_loss: 0.1062 - val_mean_absolute_error: 0.2436\n",
      "Epoch 8/10\n",
      "100/100 [==============================] - 25s 250ms/step - loss: 0.1199 - mean_absolute_error: 0.2626 - val_loss: 0.1017 - val_mean_absolute_error: 0.2381\n",
      "Epoch 9/10\n",
      "100/100 [==============================] - 24s 242ms/step - loss: 0.1064 - mean_absolute_error: 0.2474 - val_loss: 0.1065 - val_mean_absolute_error: 0.2450\n",
      "Epoch 10/10\n",
      "100/100 [==============================] - 24s 238ms/step - loss: 0.0988 - mean_absolute_error: 0.2380 - val_loss: 0.0991 - val_mean_absolute_error: 0.2349\n"
     ]
    },
    {
     "data": {
      "text/plain": [
       "<keras.callbacks.History at 0x7ff0207261f0>"
      ]
     },
     "execution_count": 52,
     "metadata": {},
     "output_type": "execute_result"
    }
   ],
   "source": [
    "batch_size = 256\n",
    "epochs = 10            # definitely too small\n",
    "steps_per_epoch = 100  # for full pass over data: (len(data_train) - 1) // batch_size + 1\n",
    "\n",
    "model = build_model()\n",
    "\n",
    "model.fit_generator(iterate_minibatches(data_train, batch_size, cycle=True, word_dropout=0.05), \n",
    "                    epochs=epochs, steps_per_epoch=steps_per_epoch,\n",
    "                    \n",
    "                    validation_data=iterate_minibatches(data_val, batch_size, cycle=True),\n",
    "                    validation_steps=data_val.shape[0] // batch_size\n",
    "                   )"
   ]
  },
  {
   "cell_type": "code",
   "execution_count": 53,
   "metadata": {},
   "outputs": [
    {
     "name": "stdout",
     "output_type": "stream",
     "text": [
      "Train results:\n",
      "Mean square error: 0.09075\n",
      "Mean absolute error: 0.22436\n",
      "Val results:\n",
      "Mean square error: 0.09909\n",
      "Mean absolute error: 0.23502\n"
     ]
    }
   ],
   "source": [
    "def print_metrics(model, data, batch_size=batch_size, name=\"\", **kw):\n",
    "    squared_error = abs_error = num_samples = 0.0\n",
    "    for batch_x, batch_y in iterate_minibatches(data, batch_size=batch_size, shuffle=False, **kw):\n",
    "        batch_pred = model.predict(batch_x)[:, 0]\n",
    "        squared_error += np.sum(np.square(batch_pred - batch_y))\n",
    "        abs_error += np.sum(np.abs(batch_pred - batch_y))\n",
    "        num_samples += len(batch_y)\n",
    "    print(\"%s results:\" % (name or \"\"))\n",
    "    print(\"Mean square error: %.5f\" % (squared_error / num_samples))\n",
    "    print(\"Mean absolute error: %.5f\" % (abs_error / num_samples))\n",
    "    return squared_error, abs_error\n",
    "    \n",
    "print_metrics(model, data_train, name='Train')\n",
    "print_metrics(model, data_val, name='Val');"
   ]
  },
  {
   "cell_type": "markdown",
   "metadata": {},
   "source": [
    "### Bonus part: explaining model predictions\n",
    "\n",
    "It's usually a good idea to understand how your model works before you let it make actual decisions. It's simple for linear models: just see which words learned positive or negative weights. However, its much harder for neural networks that learn complex nonlinear dependencies.\n",
    "\n",
    "There are, however, some ways to look inside the black box:\n",
    "* Seeing how model responds to input perturbations\n",
    "* Finding inputs that maximize/minimize activation of some chosen neurons (_read more [on distill.pub](https://distill.pub/2018/building-blocks/)_)\n",
    "* Building local linear approximations to your neural network: [article](https://arxiv.org/abs/1602.04938), [eli5 library](https://github.com/TeamHG-Memex/eli5/tree/master/eli5/formatters)\n",
    "\n",
    "Today we gonna try the first method just because it's the simplest one."
   ]
  },
  {
   "cell_type": "code",
   "execution_count": 54,
   "metadata": {},
   "outputs": [],
   "source": [
    "def explain(model, sample, col_name='Title'):\n",
    "    \"\"\" Computes the effect each word had on model predictions \"\"\"\n",
    "    sample = dict(sample)\n",
    "    sample_col_tokens = [tokens[token_to_id.get(tok, 0)] for tok in sample[col_name].split()]\n",
    "    data_drop_one_token = pd.DataFrame([sample] * (len(sample_col_tokens) + 1))\n",
    "\n",
    "    for drop_i in range(len(sample_col_tokens)):\n",
    "        data_drop_one_token.loc[drop_i, col_name] = ' '.join(UNK if i == drop_i else tok\n",
    "                                                   for i, tok in enumerate(sample_col_tokens)) \n",
    "\n",
    "    *predictions_drop_one_token, baseline_pred = model.predict(make_batch(data_drop_one_token))[:, 0]\n",
    "    diffs = baseline_pred - predictions_drop_one_token\n",
    "    return list(zip(sample_col_tokens, diffs))"
   ]
  },
  {
   "cell_type": "code",
   "execution_count": 55,
   "metadata": {},
   "outputs": [],
   "source": [
    "from IPython.display import HTML, display_html\n",
    "\n",
    "def draw_html(tokens_and_weights, cmap=plt.get_cmap(\"bwr\"), display=True,\n",
    "              token_template=\"\"\"<span style=\"background-color: {color_hex}\">{token}</span>\"\"\",\n",
    "              font_style=\"font-size:14px;\"\n",
    "             ):\n",
    "    \n",
    "    def get_color_hex(weight):\n",
    "        rgba = cmap(1. / (1 + np.exp(weight)), bytes=True)\n",
    "        return '#%02X%02X%02X' % rgba[:3]\n",
    "    \n",
    "    tokens_html = [\n",
    "        token_template.format(token=token, color_hex=get_color_hex(weight))\n",
    "        for token, weight in tokens_and_weights\n",
    "    ]\n",
    "    \n",
    "    \n",
    "    raw_html = \"\"\"<p style=\"{}\">{}</p>\"\"\".format(font_style, ' '.join(tokens_html))\n",
    "    if display:\n",
    "        display_html(HTML(raw_html))\n",
    "        \n",
    "    return raw_html\n",
    "    "
   ]
  },
  {
   "cell_type": "code",
   "execution_count": 56,
   "metadata": {},
   "outputs": [
    {
     "data": {
      "text/html": [
       "<p style=\"font-size:20px;\"><span style=\"background-color: #FFDEDE\">sales</span> <span style=\"background-color: #6868FF\">specialist</span> <span style=\"background-color: #FF7979\">iv</span> <span style=\"background-color: #FF9393\">access</span> <span style=\"background-color: #FFDEDE\">and</span> <span style=\"background-color: #FFA3A3\">infusion</span></p>"
      ]
     },
     "metadata": {},
     "output_type": "display_data"
    },
    {
     "data": {
      "text/html": [
       "<p style=\"font-size:14px;\"><span style=\"background-color: #FFFEFE\">sales</span> <span style=\"background-color: #FFF4F4\">representative</span> <span style=\"background-color: #FFF0F0\">medical</span> <span style=\"background-color: #FFDCDC\">sales</span> <span style=\"background-color: #FFF6F6\">iv</span> <span style=\"background-color: #FFFEFE\">access</span> <span style=\"background-color: #FFFEFE\">and</span> <span style=\"background-color: #FFF0F0\">infusion</span> <span style=\"background-color: #FFF6F6\">an</span> <span style=\"background-color: #FFD8D8\">opportunity</span> <span style=\"background-color: #FFF4F4\">to</span> <span style=\"background-color: #FFECEC\">work</span> <span style=\"background-color: #FFF6F6\">for</span> <span style=\"background-color: #FEFEFF\">the</span> <span style=\"background-color: #FFE4E4\">industry</span> <span style=\"background-color: #FFF4F4\">leading</span> <span style=\"background-color: #FFD6D6\">manufacturer</span> <span style=\"background-color: #FFD8D8\">of</span> <span style=\"background-color: #FFDEDE\">iv</span> <span style=\"background-color: #FFFEFE\">access</span> <span style=\"background-color: #FFFEFE\">and</span> <span style=\"background-color: #FFF0F0\">infusion</span> <span style=\"background-color: #FFF6F6\">solutions</span> <span style=\"background-color: #FFF6F6\">.</span> <span style=\"background-color: #FFF2F2\">formally</span> <span style=\"background-color: #FFFCFC\">recognised</span> <span style=\"background-color: #FFFCFC\">as</span> <span style=\"background-color: #FFF4F4\">the</span> <span style=\"background-color: #FFE4E4\">number</span> <span style=\"background-color: #FFFEFE\">****</span> <span style=\"background-color: #FFECEC\">company</span> <span style=\"background-color: #FFECEC\">in</span> <span style=\"background-color: #FFFEFE\">this</span> <span style=\"background-color: #FFE2E2\">market</span> <span style=\"background-color: #FFFCFC\">space</span> <span style=\"background-color: #FFF4F4\">,</span> <span style=\"background-color: #FFD3D3\">our</span> <span style=\"background-color: #FFE0E0\">client</span> <span style=\"background-color: #FFFCFC\">are</span> <span style=\"background-color: #FFE2E2\">an</span> <span style=\"background-color: #FFD8D8\">ethical</span> <span style=\"background-color: #FFF2F2\">and</span> <span style=\"background-color: #FFF0F0\">dynamic</span> <span style=\"background-color: #FFEAEA\">organisation</span> <span style=\"background-color: #FFCECE\">absolutely</span> <span style=\"background-color: #FFFCFC\">committed</span> <span style=\"background-color: #FFFAFA\">to</span> <span style=\"background-color: #FFECEC\">the</span> <span style=\"background-color: #FFE4E4\">advancement</span> <span style=\"background-color: #FFFEFE\">of</span> <span style=\"background-color: #FFDEDE\">innovative</span> <span style=\"background-color: #F8F8FF\">technologies</span> <span style=\"background-color: #FFFEFE\">.</span> <span style=\"background-color: #FFF2F2\">job</span> <span style=\"background-color: #FFF0F0\">title</span> <span style=\"background-color: #FEFEFF\">:</span> <span style=\"background-color: #FFFEFE\">sales</span> <span style=\"background-color: #FFF6F6\">specialist</span> <span style=\"background-color: #FFF2F2\">iv</span> <span style=\"background-color: #FFFEFE\">access</span> <span style=\"background-color: #FFFEFE\">and</span> <span style=\"background-color: #FFF0F0\">infusion</span> <span style=\"background-color: #FAFAFF\">selling</span> <span style=\"background-color: #FAFAFF\">:</span> <span style=\"background-color: #FFE8E8\">medication</span> <span style=\"background-color: #FFFAFA\">delivery</span> <span style=\"background-color: #FFFEFE\">solutions</span> <span style=\"background-color: #FFF4F4\">selling</span> <span style=\"background-color: #FFF4F4\">to</span> <span style=\"background-color: #FFECEC\">:</span> <span style=\"background-color: #FFFEFE\">iv</span> <span style=\"background-color: #FFFEFE\">teams</span> <span style=\"background-color: #FFF2F2\">,</span> <span style=\"background-color: #FFD3D3\">infection</span> <span style=\"background-color: #FFF8F8\">control</span> <span style=\"background-color: #FFF8F8\">,</span> <span style=\"background-color: #FFD2D2\">lead</span> <span style=\"background-color: #FFECEC\">intensive</span> <span style=\"background-color: #FFC8C8\">care</span> <span style=\"background-color: #FFF4F4\">nurse</span> <span style=\"background-color: #FFECEC\">specialists</span> <span style=\"background-color: #FFF6F6\">,</span> <span style=\"background-color: #FFD3D3\">ward</span> <span style=\"background-color: #FFFEFE\">managers</span> <span style=\"background-color: #FFEEEE\">territory</span> <span style=\"background-color: #FFF4F4\">:</span> <span style=\"background-color: #FFFEFE\">east</span> <span style=\"background-color: #FFEEEE\">midlands</span> <span style=\"background-color: #FEFEFF\">location</span> <span style=\"background-color: #FFD0D0\">:</span> <span style=\"background-color: #FFFEFE\">east</span> <span style=\"background-color: #FFECEC\">midlands</span> <span style=\"background-color: #FFFEFE\">package</span> <span style=\"background-color: #FFFEFE\">:</span> <span style=\"background-color: #FFFEFE\">basic</span> <span style=\"background-color: #FFF2F2\">:</span> <span style=\"background-color: #FFFEFE\">****</span> <span style=\"background-color: #FFECEC\">k</span> <span style=\"background-color: #FFF4F4\">****</span> <span style=\"background-color: #EAEAFF\">k</span> <span style=\"background-color: #E2E2FF\">,</span> <span style=\"background-color: #FFD3D3\">uncapped</span> <span style=\"background-color: #FFFAFA\">bonus</span> <span style=\"background-color: #FFEEEE\">in</span> <span style=\"background-color: #FFFEFE\">addition</span> <span style=\"background-color: #FFE6E6\">,</span> <span style=\"background-color: #FFD3D3\">full</span> <span style=\"background-color: #FFF4F4\">corporate</span> <span style=\"background-color: #FFF0F0\">benefits</span> <span style=\"background-color: #FFF4F4\">company</span> <span style=\"background-color: #FFE0E0\">information</span> <span style=\"background-color: #FCFCFF\">hugely</span> <span style=\"background-color: #FFFEFE\">ethical</span> <span style=\"background-color: #FFF2F2\">and</span> <span style=\"background-color: #FFE6E6\">professional</span> <span style=\"background-color: #FFDCDC\">global</span> <span style=\"background-color: #FFD8D8\">organisation</span> <span style=\"background-color: #FFCECE\">extremely</span> <span style=\"background-color: #FFE8E8\">well</span> <span style=\"background-color: #FFFEFE\">established</span> <span style=\"background-color: #FFE4E4\">in</span> <span style=\"background-color: #FFFEFE\">the</span> <span style=\"background-color: #FFE4E4\">uk</span> <span style=\"background-color: #FFF0F0\">the</span> <span style=\"background-color: #FFF6F6\">market</span> <span style=\"background-color: #F6F6FF\">leader</span> <span style=\"background-color: #FFF8F8\">across</span> <span style=\"background-color: #FFF6F6\">all</span> <span style=\"background-color: #FFECEC\">of</span> <span style=\"background-color: #FFDEDE\">their</span> <span style=\"background-color: #FFFEFE\">core</span> <span style=\"background-color: #FFECEC\">business</span> <span style=\"background-color: #FFFEFE\">areas</span> <span style=\"background-color: #FEFEFF\">focus</span> <span style=\"background-color: #FFF4F4\">on</span> <span style=\"background-color: #FFE2E2\">providing</span> <span style=\"background-color: #FFFAFA\">cutting</span> <span style=\"background-color: #FEFEFF\">edge</span> <span style=\"background-color: #FFF6F6\">solutions</span> <span style=\"background-color: #FFF6F6\">along</span> <span style=\"background-color: #FFF0F0\">with</span> <span style=\"background-color: #FCFCFF\">outstanding</span> <span style=\"background-color: #FFDADA\">service</span> <span style=\"background-color: #FFF2F2\">and</span> <span style=\"background-color: #FFDEDE\">support</span> <span style=\"background-color: #E3E3FF\">a</span> <span style=\"background-color: #E3E3FF\">business</span> <span style=\"background-color: #FFFEFE\">that</span> <span style=\"background-color: #FFFCFC\">retain</span> <span style=\"background-color: #FFFEFE\">talented</span> <span style=\"background-color: #FFFAFA\">personnel</span> <span style=\"background-color: #FFF2F2\">by</span> <span style=\"background-color: #FFE4E4\">offering</span> <span style=\"background-color: #FFECEC\">a</span> <span style=\"background-color: #FFF2F2\">strong</span> <span style=\"background-color: #FFDADA\">platform</span> <span style=\"background-color: #FFFEFE\">for</span> <span style=\"background-color: #FFFEFE\">career</span> <span style=\"background-color: #FFF6F6\">development</span> <span style=\"background-color: #FFF8F8\">sales</span> <span style=\"background-color: #FFF6F6\">specialist</span> <span style=\"background-color: #FFF2F2\">iv</span> <span style=\"background-color: #FFFEFE\">access</span> <span style=\"background-color: #FFFEFE\">and</span> <span style=\"background-color: #FFF0F0\">infusion</span> <span style=\"background-color: #FFF6F6\">you</span> <span style=\"background-color: #FFF0F0\">must</span> <span style=\"background-color: #FFEEEE\">have</span> <span style=\"background-color: #FFF4F4\">/</span> <span style=\"background-color: #FFFEFE\">be</span> <span style=\"background-color: #FFF4F4\">the</span> <span style=\"background-color: #FFE4E4\">following</span> <span style=\"background-color: #FFEEEE\">at</span> <span style=\"background-color: #FFF6F6\">least</span> <span style=\"background-color: #FFF4F4\">2</span> <span style=\"background-color: #F0F0FF\">years</span> <span style=\"background-color: #FFE6E6\">medical</span> <span style=\"background-color: #FFDCDC\">device</span> <span style=\"background-color: #FFF6F6\">sales</span> <span style=\"background-color: #F3F3FF\">experience</span> <span style=\"background-color: #F8F8FF\">.</span> <span style=\"background-color: #FFF2F2\">candidates</span> <span style=\"background-color: #FFE8E8\">who</span> <span style=\"background-color: #FFF8F8\">have</span> <span style=\"background-color: #FFF4F4\">sold</span> <span style=\"background-color: #FFDADA\">disposables</span> <span style=\"background-color: #FFFCFC\">/</span> <span style=\"background-color: #FFFEFE\">consumables</span> <span style=\"background-color: #FFF2F2\">or</span> <span style=\"background-color: #FFF6F6\">similar</span> <span style=\"background-color: #FFF8F8\">into</span> <span style=\"background-color: #FFFEFE\">hospitals</span> <span style=\"background-color: #FFFCFC\">would</span> <span style=\"background-color: #FFE0E0\">be</span> <span style=\"background-color: #FFF2F2\">of</span> <span style=\"background-color: #FFDEDE\">particular</span> <span style=\"background-color: #FFF0F0\">interest</span> <span style=\"background-color: #FFFEFE\">.</span> <span style=\"background-color: #FFF2F2\">candidates</span> <span style=\"background-color: #FFE8E8\">must</span> <span style=\"background-color: #FFEEEE\">have</span> <span style=\"background-color: #FFFEFE\">sold</span> <span style=\"background-color: #FFE4E4\">into</span> <span style=\"background-color: #FEFEFF\">hospitals</span> <span style=\"background-color: #FFFCFC\">demonstrable</span> <span style=\"background-color: #FFE8E8\">performance</span> <span style=\"background-color: #FFF8F8\">and</span> <span style=\"background-color: #FFF0F0\">achievements</span> <span style=\"background-color: #FFF4F4\">so</span> <span style=\"background-color: #FFF0F0\">far</span> <span style=\"background-color: #FFEEEE\">personable</span> <span style=\"background-color: #FFF8F8\">,</span> <span style=\"background-color: #FFD3D3\">adaptable</span> <span style=\"background-color: #FFFEFE\">and</span> <span style=\"background-color: #FFF0F0\">willing</span> <span style=\"background-color: #FFE8E8\">to</span> <span style=\"background-color: #FFECEC\">learn</span> <span style=\"background-color: #FFF4F4\">keen</span> <span style=\"background-color: #FFFEFE\">and</span> <span style=\"background-color: #FFF0F0\">eager</span> <span style=\"background-color: #FFFEFE\">to</span> <span style=\"background-color: #FFDADA\">be</span> <span style=\"background-color: #FFF4F4\">a</span> <span style=\"background-color: #FFF2F2\">success</span> <span style=\"background-color: #FFF6F6\">candidates</span> <span style=\"background-color: #FFE8E8\">must</span> <span style=\"background-color: #FFDCDC\">have</span> <span style=\"background-color: #FFF4F4\">a</span> <span style=\"background-color: #FFF2F2\">degree</span> <span style=\"background-color: #FFDEDE\">or</span> <span style=\"background-color: #FFF6F6\">at</span> <span style=\"background-color: #FFF6F6\">least</span> <span style=\"background-color: #FFFEFE\">be</span> <span style=\"background-color: #FFF4F4\">able</span> <span style=\"background-color: #FFF6F6\">to</span> <span style=\"background-color: #FFE0E0\">show</span> <span style=\"background-color: #FFF4F4\">a</span> <span style=\"background-color: #FFF2F2\">strong</span> <span style=\"background-color: #FFDADA\">ability</span> <span style=\"background-color: #FFF6F6\">to</span> <span style=\"background-color: #FFECEC\">learn</span> <span style=\"background-color: #FFF4F4\">role</span> <span style=\"background-color: #FFFEFE\">information</span> <span style=\"background-color: #FFEEEE\">managing</span> <span style=\"background-color: #FFE2E2\">the</span> <span style=\"background-color: #FFE2E2\">east</span> <span style=\"background-color: #FFECEC\">midlands</span> <span style=\"background-color: #FFFCFC\">region</span> <span style=\"background-color: #FFFEFE\">selling</span> <span style=\"background-color: #FFF4F4\">across</span> <span style=\"background-color: #FFF6F6\">the</span> <span style=\"background-color: #FFE4E4\">company</span> <span style=\"background-color: #FFECEC\">'</span> <span style=\"background-color: #FFE2E2\">s</span> <span style=\"background-color: #FFD3D3\">range</span> <span style=\"background-color: #FFE8E8\">of</span> <span style=\"background-color: #FFDEDE\">iv</span> <span style=\"background-color: #FEFEFF\">and</span> <span style=\"background-color: #FFF0F0\">infusion</span> <span style=\"background-color: #FFF6F6\">solutions</span> <span style=\"background-color: #FFF6F6\">portfolio</span> <span style=\"background-color: #FFFAFA\">selling</span> <span style=\"background-color: #FFF2F2\">into</span> <span style=\"background-color: #FFFAFA\">lead</span> <span style=\"background-color: #FFECEC\">intensive</span> <span style=\"background-color: #FFC8C8\">care</span> <span style=\"background-color: #FFF4F4\">nurse</span> <span style=\"background-color: #FFECEC\">specialists</span> <span style=\"background-color: #FFF6F6\">,</span> <span style=\"background-color: #FFD3D3\">ward</span> <span style=\"background-color: #FCFCFF\">managers</span> <span style=\"background-color: #FFF2F2\">,</span> <span style=\"background-color: #FFD3D3\">iv</span> <span style=\"background-color: #FFFEFE\">teams</span> <span style=\"background-color: #FFF2F2\">,</span> <span style=\"background-color: #FFD3D3\">infection</span> <span style=\"background-color: #FFF4F4\">control</span> <span style=\"background-color: #FFF8F8\">teams</span> <span style=\"background-color: #FFF2F2\">,</span> <span style=\"background-color: #FFD3D3\">procurement</span> <span style=\"background-color: #FFF8F8\">sales</span> <span style=\"background-color: #FFF6F6\">specialist</span> <span style=\"background-color: #FFF2F2\">iv</span> <span style=\"background-color: #FFFEFE\">access</span> <span style=\"background-color: #FFFEFE\">and</span> <span style=\"background-color: #FFF0F0\">infusion</span> <span style=\"background-color: #FFF6F6\">candidates</span> <span style=\"background-color: #FFE8E8\">must</span> <span style=\"background-color: #FFEEEE\">be</span> <span style=\"background-color: #FFF4F4\">eligible</span> <span style=\"background-color: #FFF2F2\">to</span> <span style=\"background-color: #FFECEC\">work</span> <span style=\"background-color: #FFF6F6\">and</span> <span style=\"background-color: #FFF0F0\">live</span> <span style=\"background-color: #FFFAFA\">in</span> <span style=\"background-color: #FFFEFE\">the</span> <span style=\"background-color: #FFE4E4\">uk</span> <span style=\"background-color: #FFEAEA\">.</span> <span style=\"background-color: #FFF2F2\">please</span> <span style=\"background-color: #FFE8E8\">contact</span> <span style=\"background-color: #FFDADA\">allan</span> <span style=\"background-color: #FFECEC\">waller</span> <span style=\"background-color: #FFF2F2\">on</span> <span style=\"background-color: #FFE2E2\">****</span> <span style=\"background-color: #FFECEC\">****</span> <span style=\"background-color: #FFECEC\">****</span> <span style=\"background-color: #FFECEC\">or</span> <span style=\"background-color: #FFF6F6\">please</span> <span style=\"background-color: #FFE8E8\">hit</span> <span style=\"background-color: #FFF0F0\">the</span> <span style=\"background-color: #FFE4E4\">apply</span> <span style=\"background-color: #FFEAEA\">button</span> <span style=\"background-color: #FFF8F8\">.</span> <span style=\"background-color: #FFF2F2\">this</span> <span style=\"background-color: #FFE4E4\">job</span> <span style=\"background-color: #FFF6F6\">was</span> <span style=\"background-color: #FFFCFC\">originally</span> <span style=\"background-color: #FFFEFE\">posted</span> <span style=\"background-color: #FFF2F2\">as</span> <span style=\"background-color: #FFF4F4\">www</span> <span style=\"background-color: #FFF2F2\">.</span> <span style=\"background-color: #FFF2F2\">salestarget</span> <span style=\"background-color: #FFFEFE\">.</span> <span style=\"background-color: #FFF2F2\">co</span> <span style=\"background-color: #FFFEFE\">.</span> <span style=\"background-color: #FFF2F2\">uk</span> <span style=\"background-color: #FFEAEA\">/</span> <span style=\"background-color: #FFFEFE\">jobseeking</span> <span style=\"background-color: #FFD8D8\">/</span> <span style=\"background-color: #FFFEFE\">UNK</span> <span style=\"background-color: #FFD8D8\">****</span></p>"
      ]
     },
     "metadata": {},
     "output_type": "display_data"
    }
   ],
   "source": [
    "i = 36605\n",
    "tokens_and_weights = explain(model, data.loc[i], \"Title\")\n",
    "draw_html([(tok, weight * 5) for tok, weight in tokens_and_weights], font_style='font-size:20px;');\n",
    "\n",
    "tokens_and_weights = explain(model, data.loc[i], \"FullDescription\")\n",
    "draw_html([(tok, weight * 10) for tok, weight in tokens_and_weights]);"
   ]
  },
  {
   "cell_type": "code",
   "execution_count": 57,
   "metadata": {},
   "outputs": [
    {
     "data": {
      "text/html": [
       "<p style=\"font-size:20px;\"><span style=\"background-color: #FFC8C8\">cleaning</span> <span style=\"background-color: #FF5454\">operative</span></p>"
      ]
     },
     "metadata": {},
     "output_type": "display_data"
    },
    {
     "data": {
      "text/html": [
       "<p style=\"font-size:14px;\"><span style=\"background-color: #EAEAFF\">12</span> <span style=\"background-color: #E2E2FF\">.</span> <span style=\"background-color: #FFC8C8\">5</span> <span style=\"background-color: #FFF0F0\">hours</span> <span style=\"background-color: #FFFCFC\">per</span> <span style=\"background-color: #FAFAFF\">week</span> <span style=\"background-color: #FFF4F4\">monday</span> <span style=\"background-color: #FFE2E2\">friday</span> <span style=\"background-color: #FFF6F6\">9am</span> <span style=\"background-color: #FFE6E6\">11</span> <span style=\"background-color: #F3F3FF\">.</span> <span style=\"background-color: #FFE6E6\">30am</span> <span style=\"background-color: #FFF0F0\">duties</span> <span style=\"background-color: #E0E0FF\">to</span> <span style=\"background-color: #D6D6FF\">include</span> <span style=\"background-color: #FCFCFF\">sweeping</span> <span style=\"background-color: #F2F2FF\">,</span> <span style=\"background-color: #FFE8E8\">mopping</span> <span style=\"background-color: #EEEEFF\">,</span> <span style=\"background-color: #FFF4F4\">vacuuming</span> <span style=\"background-color: #FFE6E6\">,</span> <span style=\"background-color: #FFECEC\">buffing</span> <span style=\"background-color: #EAEAFF\">,</span> <span style=\"background-color: #FFE0E0\">cleaning</span> <span style=\"background-color: #FFBABA\">staff</span> <span style=\"background-color: #FFE8E8\">toilets</span> <span style=\"background-color: #FFE8E8\">and</span> <span style=\"background-color: #FFFEFE\">rest</span> <span style=\"background-color: #FFE4E4\">room</span> <span style=\"background-color: #C0C0FF\">.</span> <span style=\"background-color: #D8D8FF\">must</span> <span style=\"background-color: #FFD0D0\">be</span> <span style=\"background-color: #FFD2D2\">able</span> <span style=\"background-color: #FFEAEA\">to</span> <span style=\"background-color: #FFFEFE\">read</span> <span style=\"background-color: #FFE4E4\">as</span> <span style=\"background-color: #FFFEFE\">they</span> <span style=\"background-color: #FFFEFE\">will</span> <span style=\"background-color: #FFE6E6\">be</span> <span style=\"background-color: #FFBCBC\">using</span> <span style=\"background-color: #FFFEFE\">UNK</span> <span style=\"background-color: #FFC3C3\">which</span> <span style=\"background-color: #FFBEBE\">need</span> <span style=\"background-color: #FFFEFE\">UNK</span> <span style=\"background-color: #FFC2C2\">as</span> <span style=\"background-color: #FFFEFE\">per</span> <span style=\"background-color: #FFE8E8\">instructions</span> <span style=\"background-color: #FFFEFE\">on</span> <span style=\"background-color: #FFDCDC\">the</span> <span style=\"background-color: #FFF6F6\">containers</span> <span style=\"background-color: #FFFCFC\">.</span> <span style=\"background-color: #FFE0E0\">sucessfull</span> <span style=\"background-color: #F2F2FF\">applicants</span> <span style=\"background-color: #EAEAFF\">will</span> <span style=\"background-color: #FFE6E6\">be</span> <span style=\"background-color: #FFD6D6\">trained</span> <span style=\"background-color: #FFDCDC\">on</span> <span style=\"background-color: #FFE0E0\">all</span> <span style=\"background-color: #FFFCFC\">electrical</span> <span style=\"background-color: #FFFAFA\">appliances</span> <span style=\"background-color: #FFDADA\">and</span> <span style=\"background-color: #FFFEFE\">UNK</span> <span style=\"background-color: #FFD8D8\">of</span> <span style=\"background-color: #FFE2E2\">cleaning</span> <span style=\"background-color: #FFBCBC\">materials</span> <span style=\"background-color: #FFFEFE\">.</span></p>"
      ]
     },
     "metadata": {},
     "output_type": "display_data"
    }
   ],
   "source": [
    "i = 12077\n",
    "tokens_and_weights = explain(model, data.loc[i], \"Title\")\n",
    "draw_html([(tok, weight * 5) for tok, weight in tokens_and_weights], font_style='font-size:20px;');\n",
    "\n",
    "tokens_and_weights = explain(model, data.loc[i], \"FullDescription\")\n",
    "draw_html([(tok, weight * 10) for tok, weight in tokens_and_weights]);"
   ]
  },
  {
   "cell_type": "code",
   "execution_count": 58,
   "metadata": {},
   "outputs": [
    {
     "name": "stdout",
     "output_type": "stream",
     "text": [
      "Index: 121556\n",
      "Salary (gbp): 1101.4572\n"
     ]
    },
    {
     "data": {
      "text/html": [
       "<p style=\"font-size:20px;\"><span style=\"background-color: #E8E8FF\">quality</span> <span style=\"background-color: #FFB2B2\">technician</span></p>"
      ]
     },
     "metadata": {},
     "output_type": "display_data"
    },
    {
     "data": {
      "text/html": [
       "<p style=\"font-size:14px;\"><span style=\"background-color: #FFFEFE\">my</span> <span style=\"background-color: #FEFEFF\">client</span> <span style=\"background-color: #FFFEFE\">,</span> <span style=\"background-color: #FFE0E0\">based</span> <span style=\"background-color: #FFEEEE\">in</span> <span style=\"background-color: #F8F8FF\">worcester</span> <span style=\"background-color: #FFFAFA\">,</span> <span style=\"background-color: #FFE0E0\">is</span> <span style=\"background-color: #FFE4E4\">looking</span> <span style=\"background-color: #FFFCFC\">to</span> <span style=\"background-color: #FFF0F0\">recruit</span> <span style=\"background-color: #FFF6F6\">a</span> <span style=\"background-color: #FFFCFC\">purchasing</span> <span style=\"background-color: #FFFAFA\">quality</span> <span style=\"background-color: #FFFEFE\">technician</span> <span style=\"background-color: #FFF4F4\">to</span> <span style=\"background-color: #FFECEC\">work</span> <span style=\"background-color: #FFF6F6\">in</span> <span style=\"background-color: #FFFEFE\">the</span> <span style=\"background-color: #FFE4E4\">quality</span> <span style=\"background-color: #FFFEFE\">department</span> <span style=\"background-color: #FFF2F2\">of</span> <span style=\"background-color: #FFECEC\">the</span> <span style=\"background-color: #FFF4F4\">business</span> <span style=\"background-color: #F0F0FF\">.</span> <span style=\"background-color: #FFF4F4\">the</span> <span style=\"background-color: #FFE4E4\">emphasis</span> <span style=\"background-color: #FFF8F8\">of</span> <span style=\"background-color: #FFEAEA\">this</span> <span style=\"background-color: #FFE8E8\">position</span> <span style=\"background-color: #FFD6D6\">is</span> <span style=\"background-color: #FFE2E2\">placed</span> <span style=\"background-color: #FFF6F6\">firmly</span> <span style=\"background-color: #FFF8F8\">on</span> <span style=\"background-color: #FFECEC\">the</span> <span style=\"background-color: #FFE4E4\">quality</span> <span style=\"background-color: #F6F6FF\">aspect</span> <span style=\"background-color: #F8F8FF\">.</span> <span style=\"background-color: #FFF4F4\">owing</span> <span style=\"background-color: #FFFAFA\">to</span> <span style=\"background-color: #FFECEC\">the</span> <span style=\"background-color: #FFE4E4\">specific</span> <span style=\"background-color: #FFF8F8\">nature</span> <span style=\"background-color: #FFFCFC\">of</span> <span style=\"background-color: #FFEAEA\">the</span> <span style=\"background-color: #FFE4E4\">product</span> <span style=\"background-color: #FFF4F4\">,</span> <span style=\"background-color: #FFDEDE\">my</span> <span style=\"background-color: #E2E2FF\">client</span> <span style=\"background-color: #DCDCFF\">is</span> <span style=\"background-color: #FFE0E0\">only</span> <span style=\"background-color: #FFF2F2\">considering</span> <span style=\"background-color: #FFF2F2\">candidates</span> <span style=\"background-color: #FFE6E6\">with</span> <span style=\"background-color: #FAFAFF\">experience</span> <span style=\"background-color: #FFFAFA\">in</span> <span style=\"background-color: #FFFEFE\">the</span> <span style=\"background-color: #FFE4E4\">following</span> <span style=\"background-color: #FFEEEE\">disciplines</span> <span style=\"background-color: #FFF8F8\">.</span> <span style=\"background-color: #FFF6F6\">programming</span> <span style=\"background-color: #FFECEC\">mitutoyo</span> <span style=\"background-color: #FFFEFE\">cmm</span> <span style=\"background-color: #FFECEC\">,</span> <span style=\"background-color: #FFE6E6\">including</span> <span style=\"background-color: #FFE4E4\">the</span> <span style=\"background-color: #FFE4E4\">software</span> <span style=\"background-color: #FFDEDE\">mitutoyo</span> <span style=\"background-color: #FFFEFE\">UNK</span> <span style=\"background-color: #FCFCFF\">v</span> <span style=\"background-color: #F0F0FF\">****</span> <span style=\"background-color: #ACACFF\">and</span> <span style=\"background-color: #C3C3FF\">mitutoyo</span> <span style=\"background-color: #FFFEFE\">cat</span> <span style=\"background-color: #FFF6F6\">****</span> <span style=\"background-color: #FFFCFC\">ps</span> <span style=\"background-color: #FFFEFE\">.</span> <span style=\"background-color: #FFF4F4\">if</span> <span style=\"background-color: #FFFAFA\">you</span> <span style=\"background-color: #FFF4F4\">have</span> <span style=\"background-color: #FFEAEA\">this</span> <span style=\"background-color: #FFE8E8\">type</span> <span style=\"background-color: #FFF4F4\">of</span> <span style=\"background-color: #FFEAEA\">experience</span> <span style=\"background-color: #FFF6F6\">and</span> <span style=\"background-color: #FFE6E6\">you</span> <span style=\"background-color: #FFF4F4\">are</span> <span style=\"background-color: #FFECEC\">looking</span> <span style=\"background-color: #FFFAFA\">to</span> <span style=\"background-color: #FFFAFA\">work</span> <span style=\"background-color: #ECECFF\">for</span> <span style=\"background-color: #D6D6FF\">a</span> <span style=\"background-color: #F8F8FF\">market</span> <span style=\"background-color: #FFF8F8\">leading</span> <span style=\"background-color: #FFE0E0\">company</span> <span style=\"background-color: #FFF8F8\">then</span> <span style=\"background-color: #FFF4F4\">this</span> <span style=\"background-color: #FFE8E8\">is</span> <span style=\"background-color: #FFE0E0\">an</span> <span style=\"background-color: #FFE4E4\">excellent</span> <span style=\"background-color: #D3D3FF\">opportunity</span> <span style=\"background-color: #CCCCFF\">.</span> <span style=\"background-color: #FFFCFC\">please</span> <span style=\"background-color: #FFF6F6\">attach</span> <span style=\"background-color: #FFF8F8\">your</span> <span style=\"background-color: #FFF8F8\">cv</span> <span style=\"background-color: #FFF0F0\">to</span> <span style=\"background-color: #FFF2F2\">the</span> <span style=\"background-color: #FFEAEA\">application</span> <span style=\"background-color: #FFFEFE\">.</span> <span style=\"background-color: #FFF4F4\">adecco</span> <span style=\"background-color: #FFF6F6\">is</span> <span style=\"background-color: #FFE0E0\">an</span> <span style=\"background-color: #FFE4E4\">equal</span> <span style=\"background-color: #FFE6E6\">opportunities</span> <span style=\"background-color: #FFE6E6\">employment</span> <span style=\"background-color: #FFFAFA\">agency</span> <span style=\"background-color: #FAFAFF\">.</span> <span style=\"background-color: #FFF4F4\">adecco</span> <span style=\"background-color: #FFF6F6\">is</span> <span style=\"background-color: #FFE0E0\">acting</span> <span style=\"background-color: #FFF6F6\">as</span> <span style=\"background-color: #FFECEC\">an</span> <span style=\"background-color: #FFE4E4\">employment</span> <span style=\"background-color: #FFF6F6\">agency</span> <span style=\"background-color: #FFFEFE\">in</span> <span style=\"background-color: #F0F0FF\">relation</span> <span style=\"background-color: #F6F6FF\">to</span> <span style=\"background-color: #FFECEC\">this</span> <span style=\"background-color: #FFE8E8\">vacancy</span></p>"
      ]
     },
     "metadata": {},
     "output_type": "display_data"
    }
   ],
   "source": [
    "i = np.random.randint(len(data))\n",
    "print(\"Index:\", i)\n",
    "print(\"Salary (gbp):\", np.expm1(model.predict(make_batch(data.iloc[i: i+1]))[0, 0]))\n",
    "\n",
    "tokens_and_weights = explain(model, data.loc[i], \"Title\")\n",
    "draw_html([(tok, weight * 5) for tok, weight in tokens_and_weights], font_style='font-size:20px;');\n",
    "\n",
    "tokens_and_weights = explain(model, data.loc[i], \"FullDescription\")\n",
    "draw_html([(tok, weight * 10) for tok, weight in tokens_and_weights]);"
   ]
  },
  {
   "cell_type": "markdown",
   "metadata": {},
   "source": [
    "__Terrible start-up idea #1962:__ make a tool that automaticaly rephrases your job description (or CV) to meet salary expectations :)"
   ]
  }
 ],
 "metadata": {
  "kernelspec": {
   "display_name": "Python 3 (ipykernel)",
   "language": "python",
   "name": "python3"
  },
  "language_info": {
   "codemirror_mode": {
    "name": "ipython",
    "version": 3
   },
   "file_extension": ".py",
   "mimetype": "text/x-python",
   "name": "python",
   "nbconvert_exporter": "python",
   "pygments_lexer": "ipython3",
   "version": "3.8.10"
  }
 },
 "nbformat": 4,
 "nbformat_minor": 4
}